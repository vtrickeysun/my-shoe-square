{
 "cells": [
  {
   "cell_type": "markdown",
   "id": "5328b64a-f41a-478f-b032-31c32d6d6c23",
   "metadata": {},
   "source": [
    "# Bank Account project"
   ]
  },
  {
   "cell_type": "code",
   "execution_count": 66,
   "id": "37be1602-f092-457a-a200-362a2f68a183",
   "metadata": {},
   "outputs": [],
   "source": [
    "import psycopg2\n",
    "\n",
    "class BankAccount:\n",
    "    def __init__(self, account_number, account_holder, balance=0):\n",
    "        self.account_number = account_number\n",
    "        self.account_holder = account_holder\n",
    "        self.balance = balance\n",
    "\n",
    "        # Establish connection to PostgreSQL\n",
    "        self.conn = psycopg2.connect(\n",
    "            dbname=\"test\",\n",
    "            user=\"postgres\",\n",
    "            password=\"Welcome@123\",\n",
    "            host=\"localhost\",  # or your host\n",
    "            port=\"5432\"  # or your port\n",
    "        )\n",
    "        self.cur = self.conn.cursor()\n",
    "\n",
    "        # Check if account exists\n",
    "        self.account_exists = self.check_account_exists()\n",
    "\n",
    "    def check_account_exists(self):\n",
    "        # Check if account exists in the database\n",
    "        self.cur.execute(\"SELECT COUNT(*) FROM acc_info WHERE accountnumber = %s\", (self.account_number,))\n",
    "        count = self.cur.fetchone()[0]\n",
    "        return count > 0\n",
    "\n",
    "    def deposit(self, amount):\n",
    "        if self.account_exists:\n",
    "            if amount > 0:\n",
    "                # Fetch the current amount from the database\n",
    "                self.cur.execute(\"SELECT amount FROM acc_info WHERE accountnumber = %s\", (self.account_number,))\n",
    "                current_amount = self.cur.fetchone()[0]\n",
    "                \n",
    "                # Update the balance with the fetched amount and the deposit\n",
    "                new_balance = current_amount + amount\n",
    "                \n",
    "                # Update the amount in the database\n",
    "                self.cur.execute(\"UPDATE acc_info SET amount = %s WHERE accountnumber = %s\", (new_balance, self.account_number))\n",
    "                self.conn.commit()\n",
    "                print(f\"Deposit of ${amount} successful. New balance: ${new_balance}\")\n",
    "            else:\n",
    "                print(\"Deposit amount must be positive.\")\n",
    "        else:\n",
    "            print(\"Account does not exist. Please create an account.\")\n",
    "\n",
    "\n",
    "    def withdraw(self, amount):\n",
    "        if self.account_exists:\n",
    "            if amount > 0:\n",
    "                # Fetch the current amount from the database\n",
    "                self.cur.execute(\"SELECT amount FROM acc_info WHERE accountnumber = %s\", (self.account_number,))\n",
    "                current_amount = self.cur.fetchone()[0]\n",
    "                \n",
    "                if amount <= current_amount:\n",
    "                    # Calculate new balance after withdrawal\n",
    "                    new_balance = current_amount - amount\n",
    "                    \n",
    "                    # Update the amount in the database\n",
    "                    self.cur.execute(\"UPDATE acc_info SET amount = %s WHERE accountnumber = %s\", (new_balance, self.account_number))\n",
    "                    self.conn.commit()\n",
    "                    print(f\"Withdrawal of ${amount} successful. New balance: ${new_balance}\")\n",
    "                else:\n",
    "                    print(\"Withdrawal amount exceeds account balance.\")\n",
    "            else:\n",
    "                print(\"Withdrawal amount must be positive.\")\n",
    "        else:\n",
    "            print(\"Account does not exist. Please create an account.\")\n",
    "\n",
    "\n",
    "    def check_balance(self):\n",
    "        if self.account_exists:\n",
    "            # Fetch the amount from the database for the respective account\n",
    "            self.cur.execute(\"SELECT amount FROM acc_info WHERE accountnumber = %s\", (self.account_number,))\n",
    "            amount = self.cur.fetchone()[0]\n",
    "            print(f\"Account balance: ${amount}\")\n",
    "        else:\n",
    "            print(\"Account does not exist. Please create an account.\")\n",
    "\n",
    "    def create_account(self):\n",
    "        if not self.account_exists:\n",
    "            # Insert new account into the database\n",
    "            self.cur.execute(\"INSERT INTO acc_info (accountholder_name,accountnumber, amount) VALUES (%s, %s, %s)\", (self.account_holder,self.account_number, self.balance))\n",
    "            self.conn.commit()\n",
    "            self.account_exists = True\n",
    "            print(\"Account created successfully.\")\n",
    "        else:\n",
    "            print(\"Account already exists.\")\n",
    "        self.closing()\n",
    "    def closing(self):\n",
    "        # Close cursor and connection when object is destroyed\n",
    "        self.cur.close()\n",
    "        self.conn.close()\n"
   ]
  },
  {
   "cell_type": "code",
   "execution_count": 68,
   "id": "9a25b9f7-91a8-4eda-b5b0-6c0414dca13a",
   "metadata": {},
   "outputs": [
    {
     "name": "stdout",
     "output_type": "stream",
     "text": [
      "Account created successfully.\n"
     ]
    }
   ],
   "source": [
    "acc = BankAccount(12348,'kumar')\n",
    "acc.create_account()"
   ]
  }
 ],
 "metadata": {
  "kernelspec": {
   "display_name": "Python 3 (ipykernel)",
   "language": "python",
   "name": "python3"
  },
  "language_info": {
   "codemirror_mode": {
    "name": "ipython",
    "version": 3
   },
   "file_extension": ".py",
   "mimetype": "text/x-python",
   "name": "python",
   "nbconvert_exporter": "python",
   "pygments_lexer": "ipython3",
   "version": "3.12.4"
  }
 },
 "nbformat": 4,
 "nbformat_minor": 5
}
